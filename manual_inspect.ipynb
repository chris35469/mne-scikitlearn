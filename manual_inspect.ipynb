import mne
from glob import glob
import matplotlib.pyplot as plt
#from matplotlib  import interactive
#interactive(True)
import numpy as np
import matplotlib
matplotlib.use('Agg')




debug_asd_file_path=sorted(glob('data/asd/*.set'))
debug_td_file_path=sorted(glob('data/td/*.set'))

def get_filtered_data(file_path, l_freq = 0.5, h_freq = 40):
    raw = mne.io.read_raw_eeglab(file_path, preload=True)
    raw.plot(block=True)
    x = input()

get_filtered_data(debug_asd_file_path[0])


'''
x = np.array([1, 2])
y = np.array([2, 4])

plt.plot(x, y, 'o')
plt.xlabel('x')
plt.ylabel('y')
plt.show()
print("enter somethinf")
something = input()

import numpy as np
from sklearn.linear_model import LinearRegression

model = LinearRegression()
model.fit(x.reshape(-1, 1), y)

slope = model.coef_[0]

print(slope)
'''

