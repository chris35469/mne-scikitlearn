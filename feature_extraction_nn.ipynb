{
 "cells": [
  {
   "cell_type": "markdown",
   "metadata": {},
   "source": [
    "### TODO:\n",
    "\n",
    "1. Add **information complexity** feature extraction to **subject class**\n"
   ]
  },
  {
   "cell_type": "code",
   "execution_count": 3,
   "metadata": {},
   "outputs": [
    {
     "name": "stdout",
     "output_type": "stream",
     "text": [
      "(97, 62, 20)\n"
     ]
    }
   ],
   "source": [
    "from utils.htil_toolbox import Subject, load_files, NumpyDatasetGroupSplit, nn_eval, SimpleLinear\n",
    "import torch\n",
    "#import torch.nn as nn\n",
    "import numpy as np\n",
    "from torch.utils.data import DataLoader\n",
    "import math\n",
    "torch.manual_seed(42)\n",
    "\n",
    "# Pass interpolate channel through to add interpolate step into the existing pipeline\n",
    "_interpolate_channels = {\n",
    "    '24': ['CP3', 'P2'],\n",
    "    '42': ['TP8', 'TP7', \"T7\"],\n",
    "    '49': ['T8'],\n",
    "    '11': ['F5', 'F7', 'FT7', 'FC5', 'T7'],\n",
    "    '12': ['C5', 'T7', 'TP7'],\n",
    "    '13': ['FC6'],\n",
    "    '18': ['FC3'],\n",
    "    '20': ['T7'],\n",
    "    '21': ['T7', 'T8', 'P2'],\n",
    "    '27': ['P10'],\n",
    "    '28': ['C3'],\n",
    "    '5': ['F7', 'FT7']\n",
    "}\n",
    "\n",
    "def getFileID(fileName):\n",
    "   return fileName.split('Abby')[0].split('/')[-1] #specific to test set \n",
    "\n",
    "def getFeatures():\n",
    "    control_files = load_files('data/td/', \".set\")\n",
    "    patient_files = load_files('data/asd/', \".set\")\n",
    "    control_group_ids = [getFileID(i) for i in control_files]\n",
    "    patient_group_ids = [getFileID(i) for i in patient_files]\n",
    "    group_ids_list = control_group_ids + patient_group_ids\n",
    "    control_epochs = [extractBasicPSD(file, interpolate=_interpolate_channels, fmin=8, fmax=30) for file in control_files]\n",
    "    patient_epochs = [extractBasicPSD(file, interpolate=_interpolate_channels, fmin=8, fmax=30) for file in patient_files]\n",
    "    control_epochs_labels = [len(i) * [0] for i in control_epochs]\n",
    "    experiment_epochs_labels = [len(i) * [1] for i in patient_epochs]\n",
    "    all_data = control_epochs + patient_epochs\n",
    "    groups_list = [[group_ids_list[i]]*len(j) for i, j in enumerate(all_data)]\n",
    "    all_data_stacked = np.vstack(all_data)\n",
    "    all_labels = np.hstack(control_epochs_labels + experiment_epochs_labels)\n",
    "    # Create array of IDs for group split that are linked to the original file ID \n",
    "    group_array = np.hstack(groups_list)\n",
    "    return all_data_stacked, all_labels, group_array\n",
    "\n",
    "def extractBasicPSD(file_path, interpolate=[], epoch_duration=1, fmin=0, fmax=40):\n",
    "     return Subject(file_path, muscle_thresh=5, interpolate=interpolate, epoch_duration=epoch_duration, fmin=fmin, fmax=fmax).getRegionPSDFeatures()\n",
    "\n",
    "def saveData():\n",
    "    x, y, group = getFeatures()\n",
    "    print(\"x, y, group: \", x.shape, y.shape, group.shape)\n",
    "    np.save('data/dataframes/x_raw_exp1.npy', x) \n",
    "    np.save('data/dataframes/y_raw_exp1.npy', y)   \n",
    "    np.save('data/dataframes/group_raw_exp1.npy', group) \n",
    "\n",
    "def start():\n",
    "    x = np.load('data/dataframes/x_raw_exp1.npy')\n",
    "    y = np.load('data/dataframes/y_raw_exp1.npy')\n",
    "    group = np.load('data/dataframes/group_raw_exp1.npy')\n",
    "    \n",
    "    print(\"x.shape :\", x.shape, \"y.shape: \", group.shape)\n",
    "    train, test = NumpyDatasetGroupSplit(x, y, group).getSplit()\n",
    "\n",
    "    # PSD Network\n",
    "    #nn_eval(SimpleLinear, train, test, 4*23, 4*23*2, 2, \"cpu\", batch_size=100,  print_point=100, num_epochs=300)\n",
    "\n",
    "     # Raw Network\n",
    "    #nn_eval(SimpleLinear, train, test, 4*1024, 8, 2, \"cpu\", batch_size=100,  print_point=100)\n",
    "\n",
    "def test():\n",
    "    #saveData()\n",
    "    #start()\n",
    "    \n",
    "    #x = np.load('data/dataframes/mse_.npy')\n",
    "    #print(x.shape)\n",
    "    #nn_eval(SimpleLinear, train, test, 62*20, 62*20*2, 2, \"cpu\", batch_size=100,  print_point=100, num_epochs=300)\n",
    "    \n",
    "    #files = load_files('data_debug/td/', \".set\")\n",
    "    #subj1 = Subject(files[0], bad_channels=[\"CP3\"], muscle_thresh=5)\n",
    "    #n = subj1.getMSE()\n",
    "    #np.save('data/dataframes/mse_.npy', n)\n",
    "\n",
    "    #control_files = load_files('data/td/', \".set\")\n",
    "    #s = Subject(control_files[0], muscle_thresh=5, interpolate=_interpolate_channels, epoch_duration=1, fmin=0, fmax=40)\n",
    "    #s.psd.plot()\n",
    "    #psd_features = s.getRegionPSDFeatures()\n",
    "    #print(psd_features.shape)\n",
    "test()\n"
   ]
  },
  {
   "cell_type": "code",
   "execution_count": null,
   "metadata": {},
   "outputs": [],
   "source": []
  }
 ],
 "metadata": {
  "kernelspec": {
   "display_name": "py38",
   "language": "python",
   "name": "python3"
  },
  "language_info": {
   "codemirror_mode": {
    "name": "ipython",
    "version": 3
   },
   "file_extension": ".py",
   "mimetype": "text/x-python",
   "name": "python",
   "nbconvert_exporter": "python",
   "pygments_lexer": "ipython3",
   "version": "3.8.15"
  },
  "orig_nbformat": 4
 },
 "nbformat": 4,
 "nbformat_minor": 2
}
