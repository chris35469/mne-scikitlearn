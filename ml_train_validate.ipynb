{
 "cells": [
  {
   "cell_type": "code",
   "execution_count": 1,
   "metadata": {},
   "outputs": [
    {
     "name": "stderr",
     "output_type": "stream",
     "text": [
      "/home/csc/anaconda3/envs/py38/lib/python3.8/site-packages/tqdm/auto.py:22: TqdmWarning: IProgress not found. Please update jupyter and ipywidgets. See https://ipywidgets.readthedocs.io/en/stable/user_install.html\n",
      "  from .autonotebook import tqdm as notebook_tqdm\n"
     ]
    },
    {
     "name": "stdout",
     "output_type": "stream",
     "text": [
      "(3166, 4, 23) (3166,) (890, 4, 23) (890,)\n",
      "SVC(C=5, kernel='linear')\n",
      "Training acc:  0.5264707990771986\n",
      "validation acc 0.503370786516854\n",
      "LinearDiscriminantAnalysis()\n",
      "Training acc:  0.5252714768329625\n",
      "validation acc 0.5112359550561798\n",
      "KNeighborsClassifier(n_neighbors=4)\n",
      "Training acc:  0.4732749485462337\n",
      "validation acc 0.4764044943820225\n"
     ]
    }
   ],
   "source": [
    "from utils.htil_toolbox import Subject, load_files, NumpyDatasetGroupSplit, nn_eval, SimpleLinear\n",
    "import torch\n",
    "#import torch.nn as nn\n",
    "import numpy as np\n",
    "from torch.utils.data import DataLoader\n",
    "import math\n",
    "torch.manual_seed(42)\n",
    "\n",
    "from sklearn.linear_model import LogisticRegression\n",
    "from sklearn.pipeline import Pipeline\n",
    "from sklearn.preprocessing import StandardScaler\n",
    "from sklearn.model_selection import GroupKFold,GridSearchCV,cross_val_score,cross_validate, GroupShuffleSplit, train_test_split\n",
    "from sklearn.discriminant_analysis import LinearDiscriminantAnalysis\n",
    "from sklearn.neighbors import KNeighborsClassifier\n",
    "from sklearn.svm import SVC, LinearSVR, SVR\n",
    "from sklearn.metrics import accuracy_score\n",
    "from sklearn.preprocessing import PolynomialFeatures\n",
    "from sklearn.tree import DecisionTreeClassifier, DecisionTreeRegressor\n",
    "from sklearn.ensemble import RandomForestClassifier, AdaBoostClassifier, GradientBoostingRegressor\n",
    "from sklearn.naive_bayes import GaussianNB, MultinomialNB\n",
    "\n",
    "\n",
    "def getBasicPipeline(clf):\n",
    "    return Pipeline([('scaler',StandardScaler()),('classifier',clf)])\n",
    "\n",
    "def getPolynomialPipeline(clf):\n",
    "    return Pipeline(\n",
    "        [\n",
    "            ('scaler', StandardScaler()),\n",
    "            ('classifier', clf)\n",
    "        ]\n",
    "    )\n",
    "\n",
    "\n",
    "def evalML(data_array, label_array, group_array, pipelineFunc=getBasicPipeline, splits=5, classifier=LogisticRegression()):     \n",
    "    clf=classifier\n",
    "    gkf=GroupKFold(n_splits=splits)\n",
    "    #param_grid = {'classifier__C': [0.01, 0.05,0.1,0.5, 1,2,3,4,5,8, 10,12,15]}\n",
    "    param_grid = {}\n",
    "    pipe=pipelineFunc(clf)\n",
    "    gscv=GridSearchCV(pipe, param_grid, cv=gkf, n_jobs=16)\n",
    "    #print(\"prefit\", data_array.shape, label_array.shape)\n",
    "    gscv.fit(data_array, label_array, groups=group_array)\n",
    "    print(\"Training acc: \", gscv.best_score_)\n",
    "    return gscv\n",
    "    \n",
    "def validation(x_train, y_train, x_validate, y_validate, groups):\n",
    "     # SVM\n",
    "    _svm = SVC(C=5, kernel='linear')\n",
    "\n",
    "    #Decision Trees\n",
    "    _d_trees = DecisionTreeClassifier()\n",
    "\n",
    "    #Ensmble\n",
    "    _rf = RandomForestClassifier(n_estimators=500,  n_jobs=-1)\n",
    "    _ada = AdaBoostClassifier(\n",
    "        DecisionTreeClassifier(max_depth=20), n_estimators=500, algorithm=\"SAMME.R\", learning_rate=0.5\n",
    "    )\n",
    "     \n",
    "    #KNN\n",
    "    _knn = KNeighborsClassifier(n_neighbors=4)\n",
    "\n",
    "    #LDA\n",
    "    _lda = LinearDiscriminantAnalysis(solver='svd')\n",
    "\n",
    "    #Narive Bayes\n",
    "    _gnb = GaussianNB()\n",
    "\n",
    "    #classifiers = [_svm, _d_trees, _rf, _gnb, _ada, _knn, _lda, _gnb]\n",
    "\n",
    "    classifiers =[_svm, _lda, _knn]\n",
    "\n",
    "    return testClassifiers(classifiers, x_train, y_train, groups, x_validate, y_validate)\n",
    "\n",
    "def testClassifiers(classifiers, train_data, train_labels, groups, test_data, test_labels):\n",
    "    models = []\n",
    "    for clf in classifiers:\n",
    "        print(clf)\n",
    "        # Train Model\n",
    "        model = evalML(train_data, train_labels, groups, pipelineFunc=getBasicPipeline, splits=10, classifier=clf)\n",
    "        models.append(model)\n",
    "        # Get Validation Accuracy\n",
    "        y_pred = model.predict(test_data)\n",
    "        score = accuracy_score(test_labels, y_pred)\n",
    "        print(\"validation acc\", score)\n",
    "    return models\n",
    "\n",
    "def split(x, y, groups):\n",
    "    splitter = GroupShuffleSplit(test_size=0.2, n_splits=1, random_state=16)\n",
    "    split = splitter.split(x, groups=groups)\n",
    "    train_inds, validate_inds = next(split)\n",
    "    x_train = x[train_inds]\n",
    "    y_train = y[train_inds]\n",
    "    groups_train = groups[train_inds]\n",
    "    x_validate = x[validate_inds]\n",
    "    y_validate = y[validate_inds]\n",
    "    return x_train, y_train, x_validate, y_validate, groups_train\n",
    "\n",
    "def main():\n",
    "    x = np.load('data/dataframes/x_raw_exp1.npy')\n",
    "    y = np.load('data/dataframes/y_raw_exp1.npy')\n",
    "    groups = np.load('data/dataframes/group_raw_exp1.npy')\n",
    "    x_train, y_train, x_validate, y_validate, groups_train = split(x, y, groups)\n",
    "    print(x_train.shape, y_train.shape, x_validate.shape, y_validate.shape)\n",
    "    x_train_reshaped = x_train.reshape(x_train.shape[0], -1) # reshape X train\n",
    "    x_validate_reshaped = x_validate.reshape(x_validate.shape[0], -1) # reshape X test\n",
    "    models = validation(x_train_reshaped, y_train, x_validate_reshaped, y_validate, groups_train)\n",
    "\n",
    "#main()"
   ]
  },
  {
   "cell_type": "code",
   "execution_count": 1,
   "metadata": {},
   "outputs": [
    {
     "data": {
      "text/plain": [
       "'3.6.2'"
      ]
     },
     "execution_count": 1,
     "metadata": {},
     "output_type": "execute_result"
    }
   ],
   "source": [
    "import matplotlib as mpl\n",
    "mpl.__version__"
   ]
  },
  {
   "cell_type": "code",
   "execution_count": null,
   "metadata": {},
   "outputs": [],
   "source": []
  }
 ],
 "metadata": {
  "kernelspec": {
   "display_name": "py38",
   "language": "python",
   "name": "python3"
  },
  "language_info": {
   "codemirror_mode": {
    "name": "ipython",
    "version": 3
   },
   "file_extension": ".py",
   "mimetype": "text/x-python",
   "name": "python",
   "nbconvert_exporter": "python",
   "pygments_lexer": "ipython3",
   "version": "3.8.15"
  },
  "orig_nbformat": 4
 },
 "nbformat": 4,
 "nbformat_minor": 2
}
