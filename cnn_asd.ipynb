{
 "cells": [
  {
   "cell_type": "code",
   "execution_count": 2,
   "metadata": {},
   "outputs": [
    {
     "name": "stdout",
     "output_type": "stream",
     "text": [
      "Raw Shape:  (62, 81921)\n",
      "Raw Seconds:  160\n",
      "(97, 61, 41)\n"
     ]
    }
   ],
   "source": [
    "from utils.htil_toolbox import Subject\n",
    "from utils.htil_toolbox import load_files\n",
    "\n",
    "files = load_files('data_debug/td/', \".set\")\n",
    "subj1 = Subject(files[0], bad_channels=[\"CP3\"], muscle_thresh=5)\n",
    "print(subj1.psd.get_data().shape)\n"
   ]
  },
  {
   "cell_type": "code",
   "execution_count": null,
   "metadata": {},
   "outputs": [],
   "source": []
  }
 ],
 "metadata": {
  "language_info": {
   "name": "python"
  },
  "orig_nbformat": 4
 },
 "nbformat": 4,
 "nbformat_minor": 2
}
